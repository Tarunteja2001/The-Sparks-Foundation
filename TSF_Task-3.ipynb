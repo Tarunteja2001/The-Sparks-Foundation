{
 "cells": [
  {
   "cell_type": "markdown",
   "id": "bf35fdfa",
   "metadata": {},
   "source": [
    "## The Sparks Foundation \n",
    "## Data Science And Business Analytics Internship\n",
    "## Tarunteja Gangareddy Bhupatwar \n",
    "\n",
    "## Exploratory Data Analysis - Retail\n",
    "\n",
    "## Task 3: Perform 'Exploratory Data Analysis' on dataset 'SampleSupertore'"
   ]
  },
  {
   "cell_type": "code",
   "execution_count": 1,
   "id": "0d142948",
   "metadata": {},
   "outputs": [],
   "source": [
    "# importing the required libraries\n",
    "import numpy as np\n",
    "import pandas as pd\n",
    "import matplotlib.pyplot as plt\n",
    "import seaborn as sns\n",
    "sns.set(style= \"darkgrid\")"
   ]
  },
  {
   "cell_type": "code",
   "execution_count": 2,
   "id": "a14167ef",
   "metadata": {},
   "outputs": [],
   "source": [
    "# importing the data\n",
    "data = pd.read_csv('SampleSuperstoredataset.csv')"
   ]
  },
  {
   "cell_type": "code",
   "execution_count": 3,
   "id": "8a804a1e",
   "metadata": {},
   "outputs": [
    {
     "data": {
      "text/html": [
       "<div>\n",
       "<style scoped>\n",
       "    .dataframe tbody tr th:only-of-type {\n",
       "        vertical-align: middle;\n",
       "    }\n",
       "\n",
       "    .dataframe tbody tr th {\n",
       "        vertical-align: top;\n",
       "    }\n",
       "\n",
       "    .dataframe thead th {\n",
       "        text-align: right;\n",
       "    }\n",
       "</style>\n",
       "<table border=\"1\" class=\"dataframe\">\n",
       "  <thead>\n",
       "    <tr style=\"text-align: right;\">\n",
       "      <th></th>\n",
       "      <th>Ship Mode</th>\n",
       "      <th>Segment</th>\n",
       "      <th>Country</th>\n",
       "      <th>City</th>\n",
       "      <th>State</th>\n",
       "      <th>Postal Code</th>\n",
       "      <th>Region</th>\n",
       "      <th>Category</th>\n",
       "      <th>Sub-Category</th>\n",
       "      <th>Sales</th>\n",
       "      <th>Quantity</th>\n",
       "      <th>Discount</th>\n",
       "      <th>Profit</th>\n",
       "    </tr>\n",
       "  </thead>\n",
       "  <tbody>\n",
       "    <tr>\n",
       "      <th>0</th>\n",
       "      <td>Second Class</td>\n",
       "      <td>Consumer</td>\n",
       "      <td>United States</td>\n",
       "      <td>Henderson</td>\n",
       "      <td>Kentucky</td>\n",
       "      <td>42420</td>\n",
       "      <td>South</td>\n",
       "      <td>Furniture</td>\n",
       "      <td>Bookcases</td>\n",
       "      <td>261.9600</td>\n",
       "      <td>2</td>\n",
       "      <td>0.00</td>\n",
       "      <td>41.9136</td>\n",
       "    </tr>\n",
       "    <tr>\n",
       "      <th>1</th>\n",
       "      <td>Second Class</td>\n",
       "      <td>Consumer</td>\n",
       "      <td>United States</td>\n",
       "      <td>Henderson</td>\n",
       "      <td>Kentucky</td>\n",
       "      <td>42420</td>\n",
       "      <td>South</td>\n",
       "      <td>Furniture</td>\n",
       "      <td>Chairs</td>\n",
       "      <td>731.9400</td>\n",
       "      <td>3</td>\n",
       "      <td>0.00</td>\n",
       "      <td>219.5820</td>\n",
       "    </tr>\n",
       "    <tr>\n",
       "      <th>2</th>\n",
       "      <td>Second Class</td>\n",
       "      <td>Corporate</td>\n",
       "      <td>United States</td>\n",
       "      <td>Los Angeles</td>\n",
       "      <td>California</td>\n",
       "      <td>90036</td>\n",
       "      <td>West</td>\n",
       "      <td>Office Supplies</td>\n",
       "      <td>Labels</td>\n",
       "      <td>14.6200</td>\n",
       "      <td>2</td>\n",
       "      <td>0.00</td>\n",
       "      <td>6.8714</td>\n",
       "    </tr>\n",
       "    <tr>\n",
       "      <th>3</th>\n",
       "      <td>Standard Class</td>\n",
       "      <td>Consumer</td>\n",
       "      <td>United States</td>\n",
       "      <td>Fort Lauderdale</td>\n",
       "      <td>Florida</td>\n",
       "      <td>33311</td>\n",
       "      <td>South</td>\n",
       "      <td>Furniture</td>\n",
       "      <td>Tables</td>\n",
       "      <td>957.5775</td>\n",
       "      <td>5</td>\n",
       "      <td>0.45</td>\n",
       "      <td>-383.0310</td>\n",
       "    </tr>\n",
       "    <tr>\n",
       "      <th>4</th>\n",
       "      <td>Standard Class</td>\n",
       "      <td>Consumer</td>\n",
       "      <td>United States</td>\n",
       "      <td>Fort Lauderdale</td>\n",
       "      <td>Florida</td>\n",
       "      <td>33311</td>\n",
       "      <td>South</td>\n",
       "      <td>Office Supplies</td>\n",
       "      <td>Storage</td>\n",
       "      <td>22.3680</td>\n",
       "      <td>2</td>\n",
       "      <td>0.20</td>\n",
       "      <td>2.5164</td>\n",
       "    </tr>\n",
       "  </tbody>\n",
       "</table>\n",
       "</div>"
      ],
      "text/plain": [
       "        Ship Mode    Segment        Country             City       State  \\\n",
       "0    Second Class   Consumer  United States        Henderson    Kentucky   \n",
       "1    Second Class   Consumer  United States        Henderson    Kentucky   \n",
       "2    Second Class  Corporate  United States      Los Angeles  California   \n",
       "3  Standard Class   Consumer  United States  Fort Lauderdale     Florida   \n",
       "4  Standard Class   Consumer  United States  Fort Lauderdale     Florida   \n",
       "\n",
       "   Postal Code Region         Category Sub-Category     Sales  Quantity  \\\n",
       "0        42420  South        Furniture    Bookcases  261.9600         2   \n",
       "1        42420  South        Furniture       Chairs  731.9400         3   \n",
       "2        90036   West  Office Supplies       Labels   14.6200         2   \n",
       "3        33311  South        Furniture       Tables  957.5775         5   \n",
       "4        33311  South  Office Supplies      Storage   22.3680         2   \n",
       "\n",
       "   Discount    Profit  \n",
       "0      0.00   41.9136  \n",
       "1      0.00  219.5820  \n",
       "2      0.00    6.8714  \n",
       "3      0.45 -383.0310  \n",
       "4      0.20    2.5164  "
      ]
     },
     "execution_count": 3,
     "metadata": {},
     "output_type": "execute_result"
    }
   ],
   "source": [
    "data.head()"
   ]
  },
  {
   "cell_type": "code",
   "execution_count": 4,
   "id": "d54b0599",
   "metadata": {},
   "outputs": [
    {
     "data": {
      "text/html": [
       "<div>\n",
       "<style scoped>\n",
       "    .dataframe tbody tr th:only-of-type {\n",
       "        vertical-align: middle;\n",
       "    }\n",
       "\n",
       "    .dataframe tbody tr th {\n",
       "        vertical-align: top;\n",
       "    }\n",
       "\n",
       "    .dataframe thead th {\n",
       "        text-align: right;\n",
       "    }\n",
       "</style>\n",
       "<table border=\"1\" class=\"dataframe\">\n",
       "  <thead>\n",
       "    <tr style=\"text-align: right;\">\n",
       "      <th></th>\n",
       "      <th>Ship Mode</th>\n",
       "      <th>Segment</th>\n",
       "      <th>Country</th>\n",
       "      <th>City</th>\n",
       "      <th>State</th>\n",
       "      <th>Postal Code</th>\n",
       "      <th>Region</th>\n",
       "      <th>Category</th>\n",
       "      <th>Sub-Category</th>\n",
       "      <th>Sales</th>\n",
       "      <th>Quantity</th>\n",
       "      <th>Discount</th>\n",
       "      <th>Profit</th>\n",
       "    </tr>\n",
       "  </thead>\n",
       "  <tbody>\n",
       "    <tr>\n",
       "      <th>count</th>\n",
       "      <td>9994</td>\n",
       "      <td>9994</td>\n",
       "      <td>9994</td>\n",
       "      <td>9994</td>\n",
       "      <td>9994</td>\n",
       "      <td>9994.000000</td>\n",
       "      <td>9994</td>\n",
       "      <td>9994</td>\n",
       "      <td>9994</td>\n",
       "      <td>9994.000000</td>\n",
       "      <td>9994.000000</td>\n",
       "      <td>9994.000000</td>\n",
       "      <td>9994.000000</td>\n",
       "    </tr>\n",
       "    <tr>\n",
       "      <th>unique</th>\n",
       "      <td>4</td>\n",
       "      <td>3</td>\n",
       "      <td>1</td>\n",
       "      <td>531</td>\n",
       "      <td>49</td>\n",
       "      <td>NaN</td>\n",
       "      <td>4</td>\n",
       "      <td>3</td>\n",
       "      <td>17</td>\n",
       "      <td>NaN</td>\n",
       "      <td>NaN</td>\n",
       "      <td>NaN</td>\n",
       "      <td>NaN</td>\n",
       "    </tr>\n",
       "    <tr>\n",
       "      <th>top</th>\n",
       "      <td>Standard Class</td>\n",
       "      <td>Consumer</td>\n",
       "      <td>United States</td>\n",
       "      <td>New York City</td>\n",
       "      <td>California</td>\n",
       "      <td>NaN</td>\n",
       "      <td>West</td>\n",
       "      <td>Office Supplies</td>\n",
       "      <td>Binders</td>\n",
       "      <td>NaN</td>\n",
       "      <td>NaN</td>\n",
       "      <td>NaN</td>\n",
       "      <td>NaN</td>\n",
       "    </tr>\n",
       "    <tr>\n",
       "      <th>freq</th>\n",
       "      <td>5968</td>\n",
       "      <td>5191</td>\n",
       "      <td>9994</td>\n",
       "      <td>915</td>\n",
       "      <td>2001</td>\n",
       "      <td>NaN</td>\n",
       "      <td>3203</td>\n",
       "      <td>6026</td>\n",
       "      <td>1523</td>\n",
       "      <td>NaN</td>\n",
       "      <td>NaN</td>\n",
       "      <td>NaN</td>\n",
       "      <td>NaN</td>\n",
       "    </tr>\n",
       "    <tr>\n",
       "      <th>mean</th>\n",
       "      <td>NaN</td>\n",
       "      <td>NaN</td>\n",
       "      <td>NaN</td>\n",
       "      <td>NaN</td>\n",
       "      <td>NaN</td>\n",
       "      <td>55190.379428</td>\n",
       "      <td>NaN</td>\n",
       "      <td>NaN</td>\n",
       "      <td>NaN</td>\n",
       "      <td>229.858001</td>\n",
       "      <td>3.789574</td>\n",
       "      <td>0.156203</td>\n",
       "      <td>28.656896</td>\n",
       "    </tr>\n",
       "    <tr>\n",
       "      <th>std</th>\n",
       "      <td>NaN</td>\n",
       "      <td>NaN</td>\n",
       "      <td>NaN</td>\n",
       "      <td>NaN</td>\n",
       "      <td>NaN</td>\n",
       "      <td>32063.693350</td>\n",
       "      <td>NaN</td>\n",
       "      <td>NaN</td>\n",
       "      <td>NaN</td>\n",
       "      <td>623.245101</td>\n",
       "      <td>2.225110</td>\n",
       "      <td>0.206452</td>\n",
       "      <td>234.260108</td>\n",
       "    </tr>\n",
       "    <tr>\n",
       "      <th>min</th>\n",
       "      <td>NaN</td>\n",
       "      <td>NaN</td>\n",
       "      <td>NaN</td>\n",
       "      <td>NaN</td>\n",
       "      <td>NaN</td>\n",
       "      <td>1040.000000</td>\n",
       "      <td>NaN</td>\n",
       "      <td>NaN</td>\n",
       "      <td>NaN</td>\n",
       "      <td>0.444000</td>\n",
       "      <td>1.000000</td>\n",
       "      <td>0.000000</td>\n",
       "      <td>-6599.978000</td>\n",
       "    </tr>\n",
       "    <tr>\n",
       "      <th>25%</th>\n",
       "      <td>NaN</td>\n",
       "      <td>NaN</td>\n",
       "      <td>NaN</td>\n",
       "      <td>NaN</td>\n",
       "      <td>NaN</td>\n",
       "      <td>23223.000000</td>\n",
       "      <td>NaN</td>\n",
       "      <td>NaN</td>\n",
       "      <td>NaN</td>\n",
       "      <td>17.280000</td>\n",
       "      <td>2.000000</td>\n",
       "      <td>0.000000</td>\n",
       "      <td>1.728750</td>\n",
       "    </tr>\n",
       "    <tr>\n",
       "      <th>50%</th>\n",
       "      <td>NaN</td>\n",
       "      <td>NaN</td>\n",
       "      <td>NaN</td>\n",
       "      <td>NaN</td>\n",
       "      <td>NaN</td>\n",
       "      <td>56430.500000</td>\n",
       "      <td>NaN</td>\n",
       "      <td>NaN</td>\n",
       "      <td>NaN</td>\n",
       "      <td>54.490000</td>\n",
       "      <td>3.000000</td>\n",
       "      <td>0.200000</td>\n",
       "      <td>8.666500</td>\n",
       "    </tr>\n",
       "    <tr>\n",
       "      <th>75%</th>\n",
       "      <td>NaN</td>\n",
       "      <td>NaN</td>\n",
       "      <td>NaN</td>\n",
       "      <td>NaN</td>\n",
       "      <td>NaN</td>\n",
       "      <td>90008.000000</td>\n",
       "      <td>NaN</td>\n",
       "      <td>NaN</td>\n",
       "      <td>NaN</td>\n",
       "      <td>209.940000</td>\n",
       "      <td>5.000000</td>\n",
       "      <td>0.200000</td>\n",
       "      <td>29.364000</td>\n",
       "    </tr>\n",
       "    <tr>\n",
       "      <th>max</th>\n",
       "      <td>NaN</td>\n",
       "      <td>NaN</td>\n",
       "      <td>NaN</td>\n",
       "      <td>NaN</td>\n",
       "      <td>NaN</td>\n",
       "      <td>99301.000000</td>\n",
       "      <td>NaN</td>\n",
       "      <td>NaN</td>\n",
       "      <td>NaN</td>\n",
       "      <td>22638.480000</td>\n",
       "      <td>14.000000</td>\n",
       "      <td>0.800000</td>\n",
       "      <td>8399.976000</td>\n",
       "    </tr>\n",
       "  </tbody>\n",
       "</table>\n",
       "</div>"
      ],
      "text/plain": [
       "             Ship Mode   Segment        Country           City       State  \\\n",
       "count             9994      9994           9994           9994        9994   \n",
       "unique               4         3              1            531          49   \n",
       "top     Standard Class  Consumer  United States  New York City  California   \n",
       "freq              5968      5191           9994            915        2001   \n",
       "mean               NaN       NaN            NaN            NaN         NaN   \n",
       "std                NaN       NaN            NaN            NaN         NaN   \n",
       "min                NaN       NaN            NaN            NaN         NaN   \n",
       "25%                NaN       NaN            NaN            NaN         NaN   \n",
       "50%                NaN       NaN            NaN            NaN         NaN   \n",
       "75%                NaN       NaN            NaN            NaN         NaN   \n",
       "max                NaN       NaN            NaN            NaN         NaN   \n",
       "\n",
       "         Postal Code Region         Category Sub-Category         Sales  \\\n",
       "count    9994.000000   9994             9994         9994   9994.000000   \n",
       "unique           NaN      4                3           17           NaN   \n",
       "top              NaN   West  Office Supplies      Binders           NaN   \n",
       "freq             NaN   3203             6026         1523           NaN   \n",
       "mean    55190.379428    NaN              NaN          NaN    229.858001   \n",
       "std     32063.693350    NaN              NaN          NaN    623.245101   \n",
       "min      1040.000000    NaN              NaN          NaN      0.444000   \n",
       "25%     23223.000000    NaN              NaN          NaN     17.280000   \n",
       "50%     56430.500000    NaN              NaN          NaN     54.490000   \n",
       "75%     90008.000000    NaN              NaN          NaN    209.940000   \n",
       "max     99301.000000    NaN              NaN          NaN  22638.480000   \n",
       "\n",
       "           Quantity     Discount       Profit  \n",
       "count   9994.000000  9994.000000  9994.000000  \n",
       "unique          NaN          NaN          NaN  \n",
       "top             NaN          NaN          NaN  \n",
       "freq            NaN          NaN          NaN  \n",
       "mean       3.789574     0.156203    28.656896  \n",
       "std        2.225110     0.206452   234.260108  \n",
       "min        1.000000     0.000000 -6599.978000  \n",
       "25%        2.000000     0.000000     1.728750  \n",
       "50%        3.000000     0.200000     8.666500  \n",
       "75%        5.000000     0.200000    29.364000  \n",
       "max       14.000000     0.800000  8399.976000  "
      ]
     },
     "execution_count": 4,
     "metadata": {},
     "output_type": "execute_result"
    }
   ],
   "source": [
    "data.describe(include= \"all\")"
   ]
  },
  {
   "cell_type": "code",
   "execution_count": 5,
   "id": "df88e301",
   "metadata": {},
   "outputs": [
    {
     "data": {
      "text/plain": [
       "Ship Mode       0\n",
       "Segment         0\n",
       "Country         0\n",
       "City            0\n",
       "State           0\n",
       "Postal Code     0\n",
       "Region          0\n",
       "Category        0\n",
       "Sub-Category    0\n",
       "Sales           0\n",
       "Quantity        0\n",
       "Discount        0\n",
       "Profit          0\n",
       "dtype: int64"
      ]
     },
     "execution_count": 5,
     "metadata": {},
     "output_type": "execute_result"
    }
   ],
   "source": [
    "data.isnull().sum()"
   ]
  },
  {
   "cell_type": "markdown",
   "id": "3719365b",
   "metadata": {},
   "source": [
    "#### There is no null values in the data."
   ]
  },
  {
   "cell_type": "markdown",
   "id": "3f2f583d",
   "metadata": {},
   "source": [
    "# Data Preparation"
   ]
  },
  {
   "cell_type": "code",
   "execution_count": 6,
   "id": "eae38942",
   "metadata": {},
   "outputs": [],
   "source": [
    "data = data.drop([\"Country\", \"Postal Code\", \"Discount\"], axis= 1)"
   ]
  },
  {
   "cell_type": "markdown",
   "id": "1e569d5e",
   "metadata": {},
   "source": [
    "#### Country, Postal code, Discount are the fields do not contribute to predict sales, profit."
   ]
  },
  {
   "cell_type": "code",
   "execution_count": 7,
   "id": "21039bcf",
   "metadata": {},
   "outputs": [
    {
     "name": "stderr",
     "output_type": "stream",
     "text": [
      "<ipython-input-7-a2f4e77d4e1c>:1: FutureWarning: Indexing with multiple keys (implicitly converted to a tuple of keys) will be deprecated, use a list instead.\n",
      "  category_group = data.groupby([\"Category\", \"Sub-Category\"])[\"Sales\", \"Quantity\", \"Profit\"].mean().reset_index()\n",
      "<ipython-input-7-a2f4e77d4e1c>:2: FutureWarning: Indexing with multiple keys (implicitly converted to a tuple of keys) will be deprecated, use a list instead.\n",
      "  segment_group = data.groupby([\"Segment\"])[\"Sales\", \"Quantity\", \"Profit\"].mean().reset_index()\n",
      "<ipython-input-7-a2f4e77d4e1c>:3: FutureWarning: Indexing with multiple keys (implicitly converted to a tuple of keys) will be deprecated, use a list instead.\n",
      "  region_group = data.groupby([\"Region\"])[\"Sales\", \"Quantity\", \"Profit\"].mean().reset_index()\n",
      "<ipython-input-7-a2f4e77d4e1c>:4: FutureWarning: Indexing with multiple keys (implicitly converted to a tuple of keys) will be deprecated, use a list instead.\n",
      "  state_group = data.groupby([\"State\"])[\"Sales\", \"Quantity\", \"Profit\"].mean().reset_index()\n",
      "<ipython-input-7-a2f4e77d4e1c>:5: FutureWarning: Indexing with multiple keys (implicitly converted to a tuple of keys) will be deprecated, use a list instead.\n",
      "  ship_mode_group = data.groupby([\"Ship Mode\"])[\"Sales\", \"Quantity\", \"Profit\"].mean().reset_index()\n"
     ]
    }
   ],
   "source": [
    "category_group = data.groupby([\"Category\", \"Sub-Category\"])[\"Sales\", \"Quantity\", \"Profit\"].mean().reset_index()\n",
    "segment_group = data.groupby([\"Segment\"])[\"Sales\", \"Quantity\", \"Profit\"].mean().reset_index()\n",
    "region_group = data.groupby([\"Region\"])[\"Sales\", \"Quantity\", \"Profit\"].mean().reset_index()\n",
    "state_group = data.groupby([\"State\"])[\"Sales\", \"Quantity\", \"Profit\"].mean().reset_index()\n",
    "ship_mode_group = data.groupby([\"Ship Mode\"])[\"Sales\", \"Quantity\", \"Profit\"].mean().reset_index()"
   ]
  },
  {
   "cell_type": "markdown",
   "id": "800d978f",
   "metadata": {},
   "source": [
    "# Exploratory Data Analysis"
   ]
  },
  {
   "cell_type": "code",
   "execution_count": 8,
   "id": "e4795ac9",
   "metadata": {},
   "outputs": [
    {
     "data": {
      "text/html": [
       "<div>\n",
       "<style scoped>\n",
       "    .dataframe tbody tr th:only-of-type {\n",
       "        vertical-align: middle;\n",
       "    }\n",
       "\n",
       "    .dataframe tbody tr th {\n",
       "        vertical-align: top;\n",
       "    }\n",
       "\n",
       "    .dataframe thead th {\n",
       "        text-align: right;\n",
       "    }\n",
       "</style>\n",
       "<table border=\"1\" class=\"dataframe\">\n",
       "  <thead>\n",
       "    <tr style=\"text-align: right;\">\n",
       "      <th></th>\n",
       "      <th>Category</th>\n",
       "      <th>Sub-Category</th>\n",
       "      <th>Sales</th>\n",
       "      <th>Quantity</th>\n",
       "      <th>Profit</th>\n",
       "    </tr>\n",
       "  </thead>\n",
       "  <tbody>\n",
       "    <tr>\n",
       "      <th>0</th>\n",
       "      <td>Furniture</td>\n",
       "      <td>Bookcases</td>\n",
       "      <td>503.859633</td>\n",
       "      <td>3.807018</td>\n",
       "      <td>-15.230509</td>\n",
       "    </tr>\n",
       "    <tr>\n",
       "      <th>1</th>\n",
       "      <td>Furniture</td>\n",
       "      <td>Chairs</td>\n",
       "      <td>532.332420</td>\n",
       "      <td>3.818476</td>\n",
       "      <td>43.095894</td>\n",
       "    </tr>\n",
       "    <tr>\n",
       "      <th>2</th>\n",
       "      <td>Furniture</td>\n",
       "      <td>Furnishings</td>\n",
       "      <td>95.825668</td>\n",
       "      <td>3.723093</td>\n",
       "      <td>13.645918</td>\n",
       "    </tr>\n",
       "    <tr>\n",
       "      <th>3</th>\n",
       "      <td>Furniture</td>\n",
       "      <td>Tables</td>\n",
       "      <td>648.794771</td>\n",
       "      <td>3.890282</td>\n",
       "      <td>-55.565771</td>\n",
       "    </tr>\n",
       "    <tr>\n",
       "      <th>4</th>\n",
       "      <td>Office Supplies</td>\n",
       "      <td>Appliances</td>\n",
       "      <td>230.755710</td>\n",
       "      <td>3.710300</td>\n",
       "      <td>38.922758</td>\n",
       "    </tr>\n",
       "    <tr>\n",
       "      <th>5</th>\n",
       "      <td>Office Supplies</td>\n",
       "      <td>Art</td>\n",
       "      <td>34.068834</td>\n",
       "      <td>3.768844</td>\n",
       "      <td>8.200737</td>\n",
       "    </tr>\n",
       "    <tr>\n",
       "      <th>6</th>\n",
       "      <td>Office Supplies</td>\n",
       "      <td>Binders</td>\n",
       "      <td>133.560560</td>\n",
       "      <td>3.922521</td>\n",
       "      <td>19.843574</td>\n",
       "    </tr>\n",
       "    <tr>\n",
       "      <th>7</th>\n",
       "      <td>Office Supplies</td>\n",
       "      <td>Envelopes</td>\n",
       "      <td>64.867724</td>\n",
       "      <td>3.566929</td>\n",
       "      <td>27.418019</td>\n",
       "    </tr>\n",
       "    <tr>\n",
       "      <th>8</th>\n",
       "      <td>Office Supplies</td>\n",
       "      <td>Fasteners</td>\n",
       "      <td>13.936774</td>\n",
       "      <td>4.211982</td>\n",
       "      <td>4.375660</td>\n",
       "    </tr>\n",
       "    <tr>\n",
       "      <th>9</th>\n",
       "      <td>Office Supplies</td>\n",
       "      <td>Labels</td>\n",
       "      <td>34.303055</td>\n",
       "      <td>3.846154</td>\n",
       "      <td>15.236962</td>\n",
       "    </tr>\n",
       "    <tr>\n",
       "      <th>10</th>\n",
       "      <td>Office Supplies</td>\n",
       "      <td>Paper</td>\n",
       "      <td>57.284092</td>\n",
       "      <td>3.779562</td>\n",
       "      <td>24.856620</td>\n",
       "    </tr>\n",
       "    <tr>\n",
       "      <th>11</th>\n",
       "      <td>Office Supplies</td>\n",
       "      <td>Storage</td>\n",
       "      <td>264.590553</td>\n",
       "      <td>3.732861</td>\n",
       "      <td>25.152277</td>\n",
       "    </tr>\n",
       "    <tr>\n",
       "      <th>12</th>\n",
       "      <td>Office Supplies</td>\n",
       "      <td>Supplies</td>\n",
       "      <td>245.650200</td>\n",
       "      <td>3.405263</td>\n",
       "      <td>-6.258418</td>\n",
       "    </tr>\n",
       "    <tr>\n",
       "      <th>13</th>\n",
       "      <td>Technology</td>\n",
       "      <td>Accessories</td>\n",
       "      <td>215.974604</td>\n",
       "      <td>3.840000</td>\n",
       "      <td>54.111788</td>\n",
       "    </tr>\n",
       "    <tr>\n",
       "      <th>14</th>\n",
       "      <td>Technology</td>\n",
       "      <td>Copiers</td>\n",
       "      <td>2198.941618</td>\n",
       "      <td>3.441176</td>\n",
       "      <td>817.909190</td>\n",
       "    </tr>\n",
       "    <tr>\n",
       "      <th>15</th>\n",
       "      <td>Technology</td>\n",
       "      <td>Machines</td>\n",
       "      <td>1645.553313</td>\n",
       "      <td>3.826087</td>\n",
       "      <td>29.432669</td>\n",
       "    </tr>\n",
       "    <tr>\n",
       "      <th>16</th>\n",
       "      <td>Technology</td>\n",
       "      <td>Phones</td>\n",
       "      <td>371.211534</td>\n",
       "      <td>3.699663</td>\n",
       "      <td>50.073938</td>\n",
       "    </tr>\n",
       "  </tbody>\n",
       "</table>\n",
       "</div>"
      ],
      "text/plain": [
       "           Category Sub-Category        Sales  Quantity      Profit\n",
       "0         Furniture    Bookcases   503.859633  3.807018  -15.230509\n",
       "1         Furniture       Chairs   532.332420  3.818476   43.095894\n",
       "2         Furniture  Furnishings    95.825668  3.723093   13.645918\n",
       "3         Furniture       Tables   648.794771  3.890282  -55.565771\n",
       "4   Office Supplies   Appliances   230.755710  3.710300   38.922758\n",
       "5   Office Supplies          Art    34.068834  3.768844    8.200737\n",
       "6   Office Supplies      Binders   133.560560  3.922521   19.843574\n",
       "7   Office Supplies    Envelopes    64.867724  3.566929   27.418019\n",
       "8   Office Supplies    Fasteners    13.936774  4.211982    4.375660\n",
       "9   Office Supplies       Labels    34.303055  3.846154   15.236962\n",
       "10  Office Supplies        Paper    57.284092  3.779562   24.856620\n",
       "11  Office Supplies      Storage   264.590553  3.732861   25.152277\n",
       "12  Office Supplies     Supplies   245.650200  3.405263   -6.258418\n",
       "13       Technology  Accessories   215.974604  3.840000   54.111788\n",
       "14       Technology      Copiers  2198.941618  3.441176  817.909190\n",
       "15       Technology     Machines  1645.553313  3.826087   29.432669\n",
       "16       Technology       Phones   371.211534  3.699663   50.073938"
      ]
     },
     "execution_count": 8,
     "metadata": {},
     "output_type": "execute_result"
    }
   ],
   "source": [
    "category_group"
   ]
  },
  {
   "cell_type": "code",
   "execution_count": 9,
   "id": "a3f3902c",
   "metadata": {},
   "outputs": [
    {
     "data": {
      "image/png": "[encoded data removed]",
      "text/plain": [
       "<Figure size 1080x360 with 3 Axes>"
      ]
     },
     "metadata": {},
     "output_type": "display_data"
    },
    {
     "data": {
      "image/png": "[encoded data removed]",
      "text/plain": [
       "<Figure size 1080x360 with 3 Axes>"
      ]
     },
     "metadata": {},
     "output_type": "display_data"
    },
    {
     "data": {
      "image/png": "[encoded data removed]",
      "text/plain": [
       "<Figure size 1080x360 with 3 Axes>"
      ]
     },
     "metadata": {},
     "output_type": "display_data"
    }
   ],
   "source": [
    "x = sns.catplot(\n",
    "    x= \"Sales\",\n",
    "    y= \"Sub-Category\",\n",
    "    col= \"Category\",\n",
    "    data= category_group,\n",
    "    kind= \"bar\"\n",
    ")\n",
    "\n",
    "y = sns.catplot(\n",
    "    x= \"Quantity\",\n",
    "    y= \"Sub-Category\",\n",
    "    col= \"Category\",\n",
    "    data= category_group,\n",
    "    kind= \"bar\"\n",
    ")\n",
    "\n",
    "z = sns.catplot(\n",
    "    x= \"Profit\",\n",
    "    y= \"Sub-Category\",\n",
    "    col= \"Category\",\n",
    "    data= category_group,\n",
    "    kind= \"bar\"\n",
    ")"
   ]
  },
  {
   "cell_type": "markdown",
   "id": "90e1d357",
   "metadata": {},
   "source": [
    "1. Sales in technology products is more than furniture and office supplies,\n",
    "2. No. of products sold for each category is same (above 3.5),\n",
    "3. Profit on the technology products are more than furniture and office supplies"
   ]
  },
  {
   "cell_type": "code",
   "execution_count": 10,
   "id": "309aab8c",
   "metadata": {},
   "outputs": [
    {
     "data": {
      "text/html": [
       "<div>\n",
       "<style scoped>\n",
       "    .dataframe tbody tr th:only-of-type {\n",
       "        vertical-align: middle;\n",
       "    }\n",
       "\n",
       "    .dataframe tbody tr th {\n",
       "        vertical-align: top;\n",
       "    }\n",
       "\n",
       "    .dataframe thead th {\n",
       "        text-align: right;\n",
       "    }\n",
       "</style>\n",
       "<table border=\"1\" class=\"dataframe\">\n",
       "  <thead>\n",
       "    <tr style=\"text-align: right;\">\n",
       "      <th></th>\n",
       "      <th>Segment</th>\n",
       "      <th>Sales</th>\n",
       "      <th>Quantity</th>\n",
       "      <th>Profit</th>\n",
       "    </tr>\n",
       "  </thead>\n",
       "  <tbody>\n",
       "    <tr>\n",
       "      <th>0</th>\n",
       "      <td>Consumer</td>\n",
       "      <td>223.733644</td>\n",
       "      <td>3.760547</td>\n",
       "      <td>25.836873</td>\n",
       "    </tr>\n",
       "    <tr>\n",
       "      <th>1</th>\n",
       "      <td>Corporate</td>\n",
       "      <td>233.823300</td>\n",
       "      <td>3.843709</td>\n",
       "      <td>30.456667</td>\n",
       "    </tr>\n",
       "    <tr>\n",
       "      <th>2</th>\n",
       "      <td>Home Office</td>\n",
       "      <td>240.972041</td>\n",
       "      <td>3.782389</td>\n",
       "      <td>33.818664</td>\n",
       "    </tr>\n",
       "  </tbody>\n",
       "</table>\n",
       "</div>"
      ],
      "text/plain": [
       "       Segment       Sales  Quantity     Profit\n",
       "0     Consumer  223.733644  3.760547  25.836873\n",
       "1    Corporate  233.823300  3.843709  30.456667\n",
       "2  Home Office  240.972041  3.782389  33.818664"
      ]
     },
     "execution_count": 10,
     "metadata": {},
     "output_type": "execute_result"
    }
   ],
   "source": [
    "segment_group"
   ]
  },
  {
   "cell_type": "code",
   "execution_count": 11,
   "id": "475bb195",
   "metadata": {},
   "outputs": [
    {
     "data": {
      "text/plain": [
       "Text(0.5, 1.0, 'Segment Wise Profit Made')"
      ]
     },
     "execution_count": 11,
     "metadata": {},
     "output_type": "execute_result"
    },
    {
     "data": {
      "image/png": "[encoded data removed]",
      "text/plain": [
       "<Figure size 360x360 with 1 Axes>"
      ]
     },
     "metadata": {},
     "output_type": "display_data"
    },
    {
     "data": {
      "image/png": "[encoded data removed]",
      "text/plain": [
       "<Figure size 360x360 with 1 Axes>"
      ]
     },
     "metadata": {},
     "output_type": "display_data"
    },
    {
     "data": {
      "image/png": "[encoded data removed]",
      "text/plain": [
       "<Figure size 360x360 with 1 Axes>"
      ]
     },
     "metadata": {},
     "output_type": "display_data"
    }
   ],
   "source": [
    "x = sns.catplot(x= \"Segment\", y= \"Sales\", data= segment_group, kind= \"bar\")\n",
    "plt.title(\"Segment Wise Sales Done\", fontsize= 15)\n",
    "y = sns.catplot(x= \"Segment\", y= \"Quantity\", data= segment_group, kind= \"bar\")\n",
    "plt.title(\"Segment Wise Qunatity Sold\", fontsize= 15)\n",
    "z = sns.catplot(x= \"Segment\", y= \"Profit\", data= segment_group, kind= \"bar\")\n",
    "plt.title(\"Segment Wise Profit Made\", fontsize= 15)"
   ]
  },
  {
   "cell_type": "markdown",
   "id": "be139ab9",
   "metadata": {},
   "source": [
    "1. All types of segment having same no. of sales done.\n",
    "2. All types of segments having same no.s of items sold.\n",
    "3. Home Office having profit more then other two segments."
   ]
  },
  {
   "cell_type": "code",
   "execution_count": 12,
   "id": "67fce510",
   "metadata": {},
   "outputs": [
    {
     "data": {
      "text/html": [
       "<div>\n",
       "<style scoped>\n",
       "    .dataframe tbody tr th:only-of-type {\n",
       "        vertical-align: middle;\n",
       "    }\n",
       "\n",
       "    .dataframe tbody tr th {\n",
       "        vertical-align: top;\n",
       "    }\n",
       "\n",
       "    .dataframe thead th {\n",
       "        text-align: right;\n",
       "    }\n",
       "</style>\n",
       "<table border=\"1\" class=\"dataframe\">\n",
       "  <thead>\n",
       "    <tr style=\"text-align: right;\">\n",
       "      <th></th>\n",
       "      <th>Region</th>\n",
       "      <th>Sales</th>\n",
       "      <th>Quantity</th>\n",
       "      <th>Profit</th>\n",
       "    </tr>\n",
       "  </thead>\n",
       "  <tbody>\n",
       "    <tr>\n",
       "      <th>0</th>\n",
       "      <td>Central</td>\n",
       "      <td>215.772661</td>\n",
       "      <td>3.779595</td>\n",
       "      <td>17.092709</td>\n",
       "    </tr>\n",
       "    <tr>\n",
       "      <th>1</th>\n",
       "      <td>East</td>\n",
       "      <td>238.336110</td>\n",
       "      <td>3.728230</td>\n",
       "      <td>32.135808</td>\n",
       "    </tr>\n",
       "    <tr>\n",
       "      <th>2</th>\n",
       "      <td>South</td>\n",
       "      <td>241.803645</td>\n",
       "      <td>3.832716</td>\n",
       "      <td>28.857673</td>\n",
       "    </tr>\n",
       "    <tr>\n",
       "      <th>3</th>\n",
       "      <td>West</td>\n",
       "      <td>226.493233</td>\n",
       "      <td>3.829535</td>\n",
       "      <td>33.849032</td>\n",
       "    </tr>\n",
       "  </tbody>\n",
       "</table>\n",
       "</div>"
      ],
      "text/plain": [
       "    Region       Sales  Quantity     Profit\n",
       "0  Central  215.772661  3.779595  17.092709\n",
       "1     East  238.336110  3.728230  32.135808\n",
       "2    South  241.803645  3.832716  28.857673\n",
       "3     West  226.493233  3.829535  33.849032"
      ]
     },
     "execution_count": 12,
     "metadata": {},
     "output_type": "execute_result"
    }
   ],
   "source": [
    "region_group.head(10)"
   ]
  },
  {
   "cell_type": "code",
   "execution_count": 13,
   "id": "cd619060",
   "metadata": {},
   "outputs": [
    {
     "data": {
      "text/plain": [
       "Text(0.5, 1.0, 'Region Wise Profit Made')"
      ]
     },
     "execution_count": 13,
     "metadata": {},
     "output_type": "execute_result"
    },
    {
     "data": {
      "image/png": "[encoded data removed]",
      "text/plain": [
       "<Figure size 360x360 with 1 Axes>"
      ]
     },
     "metadata": {},
     "output_type": "display_data"
    },
    {
     "data": {
      "image/png": "[encoded data removed]",
      "text/plain": [
       "<Figure size 360x360 with 1 Axes>"
      ]
     },
     "metadata": {},
     "output_type": "display_data"
    },
    {
     "data": {
      "image/png": "[encoded data removed]",
      "text/plain": [
       "<Figure size 360x360 with 1 Axes>"
      ]
     },
     "metadata": {},
     "output_type": "display_data"
    }
   ],
   "source": [
    "x = sns.catplot(x= \"Region\", y=\"Sales\", data= region_group, kind= \"bar\")\n",
    "plt.title(\"Region Wise Sales Done\", fontsize= 15)\n",
    "y = sns.catplot(x= \"Region\", y= \"Quantity\", data= region_group, kind= \"bar\")\n",
    "plt.title(\"Region Wise Qunatity Sold\", fontsize = 15)\n",
    "z = sns.catplot(x= \"Region\", y= \"Profit\", data= region_group, kind= \"bar\")\n",
    "plt.title(\"Region Wise Profit Made\", fontsize= 15)"
   ]
  },
  {
   "cell_type": "markdown",
   "id": "e9e26865",
   "metadata": {},
   "source": [
    "1. Almost same sales doen in all region.\n",
    "2. Almost same quantity of items sold in all region.\n",
    "3. Central region having lowest profit, West region having higest profit whereas East and South having average profit."
   ]
  },
  {
   "cell_type": "code",
   "execution_count": null,
   "id": "bae69515",
   "metadata": {},
   "outputs": [],
   "source": [
    "state_group"
   ]
  },
  {
   "cell_type": "code",
   "execution_count": null,
   "id": "082119cc",
   "metadata": {},
   "outputs": [],
   "source": [
    "sorted_sales = state_group.sort_values([\"Sales\"], ascending= False)[:10]\n",
    "sorted_quantity = state_group.sort_values([\"Quantity\"], ascending= False)[:10]\n",
    "sorted_profit = state_group.sort_values([\"Profit\"], ascending= False)[:10]"
   ]
  },
  {
   "cell_type": "code",
   "execution_count": null,
   "id": "7b3f6b63",
   "metadata": {},
   "outputs": [],
   "source": [
    "sales_values = sorted_sales.Sales\n",
    "quantity_values = sorted_quantity.Quantity\n",
    "profit_values = sorted_profit.Profit\n",
    "\n",
    "\n",
    "sales_labels = sorted_sales.State\n",
    "quantity_labels = sorted_sales.State\n",
    "profit_labels = sorted_profit.State\n",
    "\n",
    "plt.figure(figsize = (15,7))\n",
    "plt.pie(sales_values, labels= sales_labels, autopct= \"%1.f%%\")\n",
    "plt.title(\"Top 10 Sales Done States\", fontsize= 20)\n",
    "plt.show()\n",
    "\n",
    "plt.figure(figsize = (15,7))\n",
    "plt.pie(quantity_values, labels= quantity_labels, autopct= \"%1.f%%\")\n",
    "plt.title(\"Top 10 Quantity Sold States\", fontsize= 20)\n",
    "plt.show()\n",
    "\n",
    "plt.figure(figsize = (15,7))\n",
    "plt.pie(profit_values, labels= profit_labels, autopct= \"%1.f%%\")\n",
    "plt.title(\"Top 10 Profit Made States\", fontsize= 20)\n",
    "plt.show()"
   ]
  },
  {
   "cell_type": "markdown",
   "id": "b962e6f7",
   "metadata": {},
   "source": [
    "1. Wyoming having comparatively more no. of sales than other states.\n",
    "2. Almost all the states having same no. of items sold.\n",
    "3. Vermont gained highest profit than other states.\n",
    "4. It's interesting to see, Wyoming had done more no. of sales than Vermont but Vermont having more profit gained state."
   ]
  },
  {
   "cell_type": "code",
   "execution_count": null,
   "id": "b6f048c5",
   "metadata": {},
   "outputs": [],
   "source": [
    "ship_mode_group"
   ]
  },
  {
   "cell_type": "code",
   "execution_count": null,
   "id": "b79670f7",
   "metadata": {},
   "outputs": [],
   "source": [
    "x = sns.catplot(x= \"Ship Mode\", y= \"Sales\", data= ship_mode_group, kind= \"bar\")\n",
    "plt.title(\"Ship Mode Wise Sales Done\", fontsize= 15)\n",
    "y = sns.catplot(x= \"Ship Mode\", y= \"Quantity\", data= ship_mode_group, kind= \"bar\")\n",
    "plt.title(\"Ship Mode Wise Quantity Sold\", fontsize= 15)\n",
    "z = sns.catplot(x= \"Ship Mode\", y= \"Profit\", data= ship_mode_group, kind= \"bar\")\n",
    "plt.title(\"Ship Mode Wise Profit Made\", fontsize= 15)"
   ]
  },
  {
   "cell_type": "markdown",
   "id": "7751366f",
   "metadata": {},
   "source": [
    "<b> We can conclude that, Ship Mode doesn't affect Sales, Quantity Sold and Profit."
   ]
  },
  {
   "cell_type": "markdown",
   "id": "068b5c5c",
   "metadata": {},
   "source": [
    "# Business Problems \n",
    "1. <b>How much Sales, Quantity and Profit values varies according to State, Category, Segment, Ship mode, Region ?\n",
    "2. <b>Which types of items having more profit ?\n",
    "3. <b>Which items are sold in more quantity ?\n",
    "4. <b>Which state has more profit ?"
   ]
  },
  {
   "cell_type": "markdown",
   "id": "c5af9b31",
   "metadata": {},
   "source": [
    "# Conclusion Made"
   ]
  },
  {
   "cell_type": "markdown",
   "id": "e8618e64",
   "metadata": {},
   "source": [
    "1. <b>Technology category are in demand. So, it is beneficial for company to produce more technological items.\n",
    "2. <b>South region having more no. of Sales. So, company can think on how to increase profit in that region.\n",
    "3. <b>Wyoming state having more Sales than any other state but profit is not much. So, company should think om this."
   ]
  }
 ],
 "metadata": {
  "kernelspec": {
   "display_name": "Python 3",
   "language": "python",
   "name": "python3"
  },
  "language_info": {
   "codemirror_mode": {
    "name": "ipython",
    "version": 3
   },
   "file_extension": ".py",
   "mimetype": "text/x-python",
   "name": "python",
   "nbconvert_exporter": "python",
   "pygments_lexer": "ipython3",
   "version": "3.8.8"
  }
 },
 "nbformat": 4,
 "nbformat_minor": 5
}
